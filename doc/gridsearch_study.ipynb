{
 "cells": [
  {
   "cell_type": "code",
   "execution_count": 1,
   "metadata": {
    "collapsed": true,
    "pycharm": {
     "name": "#%%\n"
    }
   },
   "outputs": [],
   "source": [
    "import os, shutil\n",
    "import pandas as pd\n",
    "import numpy as np\n",
    "from sklearn.linear_model import LinearRegression\n",
    "from sklearn.model_selection import train_test_split, cross_val_score\n",
    "import matplotlib.pyplot as plt\n",
    "import seaborn as sns\n",
    "%matplotlib inline\n",
    "sns.set()\n",
    "\n",
    "folder = \"../archive/gridsearch/\"\n",
    "features = [\"Budget\", \"Noise\", \"Alpha\", \"C\", \"N-Steps\", \"LR\", \"Interactions\", \"N-Hidden\", \"Regularization\"]\n",
    "target = [\"Regret\", \"Std\"]"
   ]
  },
  {
   "cell_type": "code",
   "execution_count": 2,
   "outputs": [],
   "source": [
    "def iterate_files():\n",
    "    for f in os.listdir(folder):\n",
    "        run_folder = os.path.join(folder, f)\n",
    "        result_file = os.path.join(run_folder, \"result.txt\")\n",
    "        if os.path.exists(result_file):\n",
    "            yield result_file\n",
    "        else:\n",
    "            print(f\"WARNING: no result file in {run_folder}\")"
   ],
   "metadata": {
    "collapsed": false,
    "pycharm": {
     "name": "#%%\n"
    }
   }
  },
  {
   "cell_type": "code",
   "execution_count": 3,
   "outputs": [],
   "source": [
    "def fix_attribute(name, old_value, new_value):\n",
    "    for result_file in iterate_files():\n",
    "        content_lines = []\n",
    "        with open(result_file) as r_file:\n",
    "            for line in r_file.readlines():\n",
    "                if line.startswith(f\"{name}: {old_value}\"):\n",
    "                    content_lines.append(f\"{name}: {new_value}\\n\")\n",
    "                else:\n",
    "                    content_lines.append(f\"{line}\")\n",
    "        os.remove(result_file)\n",
    "        with open(result_file, \"w\") as f:\n",
    "            f.writelines(content_lines)\n",
    "\n",
    "# fix_attribute(\"C\", \"None\", 500)"
   ],
   "metadata": {
    "collapsed": false,
    "pycharm": {
     "name": "#%%\n"
    }
   }
  },
  {
   "cell_type": "code",
   "execution_count": 4,
   "outputs": [],
   "source": [
    "def add_attribute(name, default_value):\n",
    "    for result_file in iterate_files():\n",
    "        content_lines = []\n",
    "        with open(result_file) as r_file:\n",
    "            for line in r_file.readlines():\n",
    "                if line.startswith(name):\n",
    "                    print(f\"stopping, because {name} was found already in file {result_file}\")\n",
    "                    return\n",
    "                elif line.startswith(target[0]):\n",
    "                    content_lines.append(f\"{name}: {default_value}\\n\")\n",
    "                content_lines.append(f\"{line}\")\n",
    "        os.remove(result_file)\n",
    "        with open(result_file, \"w\") as f:\n",
    "            f.writelines(content_lines)\n",
    "\n",
    "# add_attribute(\"Interactions\", 500000)"
   ],
   "metadata": {
    "collapsed": false,
    "pycharm": {
     "name": "#%%\n"
    }
   }
  },
  {
   "cell_type": "code",
   "execution_count": 5,
   "outputs": [],
   "source": [
    "result_contents = dict()\n",
    "for f in features + target:\n",
    "    result_contents[f] = list()\n",
    "\n",
    "for result_file in iterate_files():\n",
    "    with open(result_file) as r_file:\n",
    "        for line in r_file.readlines():\n",
    "            if \":\" in line:\n",
    "                parts = line.split(\":\")\n",
    "                if parts[0] in features:\n",
    "                    result_contents[parts[0]].append(float(parts[1]))\n",
    "                elif parts[0] == target[0]:\n",
    "                    t_parts = parts[1].split(' +- ')\n",
    "                    result_contents[target[0]].append(float(t_parts[0]))\n",
    "                    result_contents[target[1]].append(float(t_parts[1]))"
   ],
   "metadata": {
    "collapsed": false,
    "pycharm": {
     "name": "#%%\n"
    }
   }
  },
  {
   "cell_type": "code",
   "execution_count": 6,
   "outputs": [
    {
     "ename": "ValueError",
     "evalue": "All arrays must be of the same length",
     "output_type": "error",
     "traceback": [
      "\u001B[0;31m---------------------------------------------------------------------------\u001B[0m",
      "\u001B[0;31mValueError\u001B[0m                                Traceback (most recent call last)",
      "\u001B[0;32m/tmp/user/1000/ipykernel_11556/392621271.py\u001B[0m in \u001B[0;36m<module>\u001B[0;34m\u001B[0m\n\u001B[0;32m----> 1\u001B[0;31m \u001B[0mdf\u001B[0m \u001B[0;34m=\u001B[0m \u001B[0mpd\u001B[0m\u001B[0;34m.\u001B[0m\u001B[0mDataFrame\u001B[0m\u001B[0;34m.\u001B[0m\u001B[0mfrom_dict\u001B[0m\u001B[0;34m(\u001B[0m\u001B[0mresult_contents\u001B[0m\u001B[0;34m)\u001B[0m\u001B[0;34m\u001B[0m\u001B[0;34m\u001B[0m\u001B[0m\n\u001B[0m\u001B[1;32m      2\u001B[0m \u001B[0mdf\u001B[0m\u001B[0;34m\u001B[0m\u001B[0;34m\u001B[0m\u001B[0m\n",
      "\u001B[0;32m~/phd/global_python_env/lib/python3.9/site-packages/pandas/core/frame.py\u001B[0m in \u001B[0;36mfrom_dict\u001B[0;34m(cls, data, orient, dtype, columns)\u001B[0m\n\u001B[1;32m   1591\u001B[0m             \u001B[0;32mraise\u001B[0m \u001B[0mValueError\u001B[0m\u001B[0;34m(\u001B[0m\u001B[0;34m\"only recognize index or columns for orient\"\u001B[0m\u001B[0;34m)\u001B[0m\u001B[0;34m\u001B[0m\u001B[0;34m\u001B[0m\u001B[0m\n\u001B[1;32m   1592\u001B[0m \u001B[0;34m\u001B[0m\u001B[0m\n\u001B[0;32m-> 1593\u001B[0;31m         \u001B[0;32mreturn\u001B[0m \u001B[0mcls\u001B[0m\u001B[0;34m(\u001B[0m\u001B[0mdata\u001B[0m\u001B[0;34m,\u001B[0m \u001B[0mindex\u001B[0m\u001B[0;34m=\u001B[0m\u001B[0mindex\u001B[0m\u001B[0;34m,\u001B[0m \u001B[0mcolumns\u001B[0m\u001B[0;34m=\u001B[0m\u001B[0mcolumns\u001B[0m\u001B[0;34m,\u001B[0m \u001B[0mdtype\u001B[0m\u001B[0;34m=\u001B[0m\u001B[0mdtype\u001B[0m\u001B[0;34m)\u001B[0m\u001B[0;34m\u001B[0m\u001B[0;34m\u001B[0m\u001B[0m\n\u001B[0m\u001B[1;32m   1594\u001B[0m \u001B[0;34m\u001B[0m\u001B[0m\n\u001B[1;32m   1595\u001B[0m     def to_numpy(\n",
      "\u001B[0;32m~/phd/global_python_env/lib/python3.9/site-packages/pandas/core/frame.py\u001B[0m in \u001B[0;36m__init__\u001B[0;34m(self, data, index, columns, dtype, copy)\u001B[0m\n\u001B[1;32m    612\u001B[0m         \u001B[0;32melif\u001B[0m \u001B[0misinstance\u001B[0m\u001B[0;34m(\u001B[0m\u001B[0mdata\u001B[0m\u001B[0;34m,\u001B[0m \u001B[0mdict\u001B[0m\u001B[0;34m)\u001B[0m\u001B[0;34m:\u001B[0m\u001B[0;34m\u001B[0m\u001B[0;34m\u001B[0m\u001B[0m\n\u001B[1;32m    613\u001B[0m             \u001B[0;31m# GH#38939 de facto copy defaults to False only in non-dict cases\u001B[0m\u001B[0;34m\u001B[0m\u001B[0;34m\u001B[0m\u001B[0m\n\u001B[0;32m--> 614\u001B[0;31m             \u001B[0mmgr\u001B[0m \u001B[0;34m=\u001B[0m \u001B[0mdict_to_mgr\u001B[0m\u001B[0;34m(\u001B[0m\u001B[0mdata\u001B[0m\u001B[0;34m,\u001B[0m \u001B[0mindex\u001B[0m\u001B[0;34m,\u001B[0m \u001B[0mcolumns\u001B[0m\u001B[0;34m,\u001B[0m \u001B[0mdtype\u001B[0m\u001B[0;34m=\u001B[0m\u001B[0mdtype\u001B[0m\u001B[0;34m,\u001B[0m \u001B[0mcopy\u001B[0m\u001B[0;34m=\u001B[0m\u001B[0mcopy\u001B[0m\u001B[0;34m,\u001B[0m \u001B[0mtyp\u001B[0m\u001B[0;34m=\u001B[0m\u001B[0mmanager\u001B[0m\u001B[0;34m)\u001B[0m\u001B[0;34m\u001B[0m\u001B[0;34m\u001B[0m\u001B[0m\n\u001B[0m\u001B[1;32m    615\u001B[0m         \u001B[0;32melif\u001B[0m \u001B[0misinstance\u001B[0m\u001B[0;34m(\u001B[0m\u001B[0mdata\u001B[0m\u001B[0;34m,\u001B[0m \u001B[0mma\u001B[0m\u001B[0;34m.\u001B[0m\u001B[0mMaskedArray\u001B[0m\u001B[0;34m)\u001B[0m\u001B[0;34m:\u001B[0m\u001B[0;34m\u001B[0m\u001B[0;34m\u001B[0m\u001B[0m\n\u001B[1;32m    616\u001B[0m             \u001B[0;32mimport\u001B[0m \u001B[0mnumpy\u001B[0m\u001B[0;34m.\u001B[0m\u001B[0mma\u001B[0m\u001B[0;34m.\u001B[0m\u001B[0mmrecords\u001B[0m \u001B[0;32mas\u001B[0m \u001B[0mmrecords\u001B[0m\u001B[0;34m\u001B[0m\u001B[0;34m\u001B[0m\u001B[0m\n",
      "\u001B[0;32m~/phd/global_python_env/lib/python3.9/site-packages/pandas/core/internals/construction.py\u001B[0m in \u001B[0;36mdict_to_mgr\u001B[0;34m(data, index, columns, dtype, typ, copy)\u001B[0m\n\u001B[1;32m    462\u001B[0m         \u001B[0;31m# TODO: can we get rid of the dt64tz special case above?\u001B[0m\u001B[0;34m\u001B[0m\u001B[0;34m\u001B[0m\u001B[0m\n\u001B[1;32m    463\u001B[0m \u001B[0;34m\u001B[0m\u001B[0m\n\u001B[0;32m--> 464\u001B[0;31m     return arrays_to_mgr(\n\u001B[0m\u001B[1;32m    465\u001B[0m         \u001B[0marrays\u001B[0m\u001B[0;34m,\u001B[0m \u001B[0mdata_names\u001B[0m\u001B[0;34m,\u001B[0m \u001B[0mindex\u001B[0m\u001B[0;34m,\u001B[0m \u001B[0mcolumns\u001B[0m\u001B[0;34m,\u001B[0m \u001B[0mdtype\u001B[0m\u001B[0;34m=\u001B[0m\u001B[0mdtype\u001B[0m\u001B[0;34m,\u001B[0m \u001B[0mtyp\u001B[0m\u001B[0;34m=\u001B[0m\u001B[0mtyp\u001B[0m\u001B[0;34m,\u001B[0m \u001B[0mconsolidate\u001B[0m\u001B[0;34m=\u001B[0m\u001B[0mcopy\u001B[0m\u001B[0;34m\u001B[0m\u001B[0;34m\u001B[0m\u001B[0m\n\u001B[1;32m    466\u001B[0m     )\n",
      "\u001B[0;32m~/phd/global_python_env/lib/python3.9/site-packages/pandas/core/internals/construction.py\u001B[0m in \u001B[0;36marrays_to_mgr\u001B[0;34m(arrays, arr_names, index, columns, dtype, verify_integrity, typ, consolidate)\u001B[0m\n\u001B[1;32m    117\u001B[0m         \u001B[0;31m# figure out the index, if necessary\u001B[0m\u001B[0;34m\u001B[0m\u001B[0;34m\u001B[0m\u001B[0m\n\u001B[1;32m    118\u001B[0m         \u001B[0;32mif\u001B[0m \u001B[0mindex\u001B[0m \u001B[0;32mis\u001B[0m \u001B[0;32mNone\u001B[0m\u001B[0;34m:\u001B[0m\u001B[0;34m\u001B[0m\u001B[0;34m\u001B[0m\u001B[0m\n\u001B[0;32m--> 119\u001B[0;31m             \u001B[0mindex\u001B[0m \u001B[0;34m=\u001B[0m \u001B[0m_extract_index\u001B[0m\u001B[0;34m(\u001B[0m\u001B[0marrays\u001B[0m\u001B[0;34m)\u001B[0m\u001B[0;34m\u001B[0m\u001B[0;34m\u001B[0m\u001B[0m\n\u001B[0m\u001B[1;32m    120\u001B[0m         \u001B[0;32melse\u001B[0m\u001B[0;34m:\u001B[0m\u001B[0;34m\u001B[0m\u001B[0;34m\u001B[0m\u001B[0m\n\u001B[1;32m    121\u001B[0m             \u001B[0mindex\u001B[0m \u001B[0;34m=\u001B[0m \u001B[0mensure_index\u001B[0m\u001B[0;34m(\u001B[0m\u001B[0mindex\u001B[0m\u001B[0;34m)\u001B[0m\u001B[0;34m\u001B[0m\u001B[0;34m\u001B[0m\u001B[0m\n",
      "\u001B[0;32m~/phd/global_python_env/lib/python3.9/site-packages/pandas/core/internals/construction.py\u001B[0m in \u001B[0;36m_extract_index\u001B[0;34m(data)\u001B[0m\n\u001B[1;32m    633\u001B[0m             \u001B[0mlengths\u001B[0m \u001B[0;34m=\u001B[0m \u001B[0mlist\u001B[0m\u001B[0;34m(\u001B[0m\u001B[0mset\u001B[0m\u001B[0;34m(\u001B[0m\u001B[0mraw_lengths\u001B[0m\u001B[0;34m)\u001B[0m\u001B[0;34m)\u001B[0m\u001B[0;34m\u001B[0m\u001B[0;34m\u001B[0m\u001B[0m\n\u001B[1;32m    634\u001B[0m             \u001B[0;32mif\u001B[0m \u001B[0mlen\u001B[0m\u001B[0;34m(\u001B[0m\u001B[0mlengths\u001B[0m\u001B[0;34m)\u001B[0m \u001B[0;34m>\u001B[0m \u001B[0;36m1\u001B[0m\u001B[0;34m:\u001B[0m\u001B[0;34m\u001B[0m\u001B[0;34m\u001B[0m\u001B[0m\n\u001B[0;32m--> 635\u001B[0;31m                 \u001B[0;32mraise\u001B[0m \u001B[0mValueError\u001B[0m\u001B[0;34m(\u001B[0m\u001B[0;34m\"All arrays must be of the same length\"\u001B[0m\u001B[0;34m)\u001B[0m\u001B[0;34m\u001B[0m\u001B[0;34m\u001B[0m\u001B[0m\n\u001B[0m\u001B[1;32m    636\u001B[0m \u001B[0;34m\u001B[0m\u001B[0m\n\u001B[1;32m    637\u001B[0m             \u001B[0;32mif\u001B[0m \u001B[0mhave_dicts\u001B[0m\u001B[0;34m:\u001B[0m\u001B[0;34m\u001B[0m\u001B[0;34m\u001B[0m\u001B[0m\n",
      "\u001B[0;31mValueError\u001B[0m: All arrays must be of the same length"
     ]
    }
   ],
   "source": [
    "df = pd.DataFrame.from_dict(result_contents)\n",
    "df"
   ],
   "metadata": {
    "collapsed": false,
    "pycharm": {
     "name": "#%%\n"
    }
   }
  },
  {
   "cell_type": "code",
   "execution_count": null,
   "outputs": [],
   "source": [
    "def plot_boxplot(col_name, df):\n",
    "    labels = df[col_name].unique()\n",
    "    labels = sorted(labels)\n",
    "    #print(labels)\n",
    "    result = dict()\n",
    "    for v in labels:\n",
    "        result[v] = list()\n",
    "    for index, row in df.iterrows():\n",
    "        result[row[col_name]].append(row[\"Regret\"])\n",
    "    values = [result[k] for k in result.keys()]\n",
    "\n",
    "    fig = plt.figure()\n",
    "    ax = fig.add_subplot(111)\n",
    "    ax.boxplot(values)\n",
    "    ax.set_xlabel(col_name)\n",
    "    ax.set_ylabel(\"Regret\")\n",
    "    plt.setp(ax, xticks=range(1, len(labels)+1), xticklabels=labels)\n",
    "    plt.show()\n",
    "    plt.clf()"
   ],
   "metadata": {
    "collapsed": false,
    "pycharm": {
     "name": "#%%\n"
    }
   }
  },
  {
   "cell_type": "code",
   "execution_count": null,
   "outputs": [],
   "source": [
    "def plot_heatmap(col_name, row_name, df):\n",
    "    columns = df[col_name].unique()\n",
    "    columns = sorted(columns)\n",
    "    columns = [str(c) for c in columns]\n",
    "    rows = df[row_name].unique()\n",
    "    rows = sorted(rows)\n",
    "    rows = [str(r) for r in rows]\n",
    "\n",
    "    heatmap_df = pd.DataFrame(columns=columns, index=rows, dtype=\"float\")\n",
    "    divisors_df = heatmap_df.copy(deep=True)\n",
    "    for rowIndex, row in divisors_df.iterrows():\n",
    "        for columnIndex, value in row.items():\n",
    "            heatmap_df.at[rowIndex, columnIndex] = 0.0\n",
    "            divisors_df.at[rowIndex, columnIndex] = 0.0\n",
    "\n",
    "    for index, row in df.iterrows():\n",
    "        heatmap_df.at[str(row[row_name]), str(row[col_name])] += float(row[\"Regret\"])\n",
    "        divisors_df.at[str(row[row_name]), str(row[col_name])] += 1.0\n",
    "\n",
    "    for rowIndex, row in heatmap_df.iterrows():\n",
    "        for columnIndex, value in row.items():\n",
    "            if divisors_df.at[rowIndex, columnIndex] == 0:\n",
    "                heatmap_df.at[rowIndex, columnIndex] = np.NAN\n",
    "            else:\n",
    "                heatmap_df.at[rowIndex, columnIndex] /= divisors_df.at[rowIndex, columnIndex]\n",
    "\n",
    "    hm = sns.heatmap(heatmap_df, annot=True)\n",
    "    hm.set(xlabel=col_name, ylabel=row_name)\n",
    "    plt.show()"
   ],
   "metadata": {
    "collapsed": false,
    "pycharm": {
     "name": "#%%\n"
    }
   }
  },
  {
   "cell_type": "markdown",
   "source": [
    "## How many N-Steps do we need?"
   ],
   "metadata": {
    "collapsed": false,
    "pycharm": {
     "name": "#%% md\n"
    }
   }
  },
  {
   "cell_type": "code",
   "execution_count": null,
   "outputs": [],
   "source": [
    "plot_heatmap(\"Budget\", \"N-Steps\", df)\n",
    "plot_boxplot(\"N-Steps\", df)"
   ],
   "metadata": {
    "collapsed": false,
    "pycharm": {
     "name": "#%%\n"
    }
   }
  },
  {
   "cell_type": "markdown",
   "source": [
    "## How much noise can be tolerated?"
   ],
   "metadata": {
    "collapsed": false,
    "pycharm": {
     "name": "#%% md\n"
    }
   }
  },
  {
   "cell_type": "code",
   "execution_count": null,
   "outputs": [],
   "source": [
    "plot_boxplot(\"Noise\", df)\n",
    "plot_heatmap(\"N-Steps\", \"Noise\", df)"
   ],
   "metadata": {
    "collapsed": false,
    "pycharm": {
     "name": "#%%\n"
    }
   }
  },
  {
   "cell_type": "markdown",
   "source": [
    "### How Many Interactions per Budget?"
   ],
   "metadata": {
    "collapsed": false,
    "pycharm": {
     "name": "#%% md\n"
    }
   }
  },
  {
   "cell_type": "code",
   "execution_count": null,
   "outputs": [],
   "source": [
    "plot_heatmap(\"Budget\", \"Interactions\", df)"
   ],
   "metadata": {
    "collapsed": false,
    "pycharm": {
     "name": "#%%\n"
    }
   }
  },
  {
   "cell_type": "markdown",
   "source": [
    "## Linear Model"
   ],
   "metadata": {
    "collapsed": false,
    "pycharm": {
     "name": "#%% md\n"
    }
   }
  },
  {
   "cell_type": "code",
   "execution_count": null,
   "outputs": [],
   "source": [
    "X = df.values[:, :-2] # last two columns are target\n",
    "Y = df.values[:, -2]\n",
    "res = cross_val_score(LinearRegression(), X, Y, cv=5, scoring=\"neg_mean_absolute_error\")\n",
    "print(res)"
   ],
   "metadata": {
    "collapsed": false,
    "pycharm": {
     "name": "#%%\n"
    }
   }
  },
  {
   "cell_type": "code",
   "execution_count": null,
   "outputs": [],
   "source": [
    "model = LinearRegression().fit(X, Y)\n",
    "budget = 2000\n",
    "noise = 1.0\n",
    "alpha = 0.6\n",
    "c = 500\n",
    "nsteps = 1\n",
    "lr = 0.01\n",
    "interactions = 500000\n",
    "\n",
    "best = np.inf\n",
    "x_best = None\n",
    "for interactions in [2000000, 4000000, 8000000]:\n",
    "    for nsteps in [1, 2, 3, 5]:\n",
    "        x = np.array([[budget, noise, alpha, c, nsteps, lr, interactions]])\n",
    "        y_hat = model.predict(x)\n",
    "        if y_hat < best:\n",
    "            best = y_hat\n",
    "            x_best = x\n",
    "\n",
    "for_printing = pd.DataFrame(columns=df.columns)\n",
    "for_printing.loc[\"best\"] = list(x_best[0]) + list(best) + [0]\n",
    "for_printing"
   ],
   "metadata": {
    "collapsed": false,
    "pycharm": {
     "name": "#%%\n"
    }
   }
  }
 ],
 "metadata": {
  "kernelspec": {
   "display_name": "Python 3",
   "language": "python",
   "name": "python3"
  },
  "language_info": {
   "codemirror_mode": {
    "name": "ipython",
    "version": 2
   },
   "file_extension": ".py",
   "mimetype": "text/x-python",
   "name": "python",
   "nbconvert_exporter": "python",
   "pygments_lexer": "ipython2",
   "version": "2.7.6"
  }
 },
 "nbformat": 4,
 "nbformat_minor": 0
}