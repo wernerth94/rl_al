{
 "cells": [
  {
   "cell_type": "code",
   "execution_count": 83,
   "metadata": {
    "collapsed": true,
    "pycharm": {
     "name": "#%%\n"
    }
   },
   "outputs": [],
   "source": [
    "import os, shutil\n",
    "import pandas as pd\n",
    "import numpy as np\n",
    "from sklearn.linear_model import LinearRegression\n",
    "from sklearn.model_selection import train_test_split, cross_val_score\n",
    "import matplotlib.pyplot as plt\n",
    "import seaborn as sns\n",
    "%matplotlib inline\n",
    "sns.set()\n",
    "\n",
    "folder = \"../archive/gridsearch/\"\n",
    "features = [\"Budget\", \"Noise\", \"Alpha\", \"C\", \"N-Steps\", \"LR\", \"Interactions\", \"N-Hidden\", \"Regularization\", \"Gamma\", \"Reward-Noise\", \"Linear\"]\n",
    "target = [\"Regret\", \"Std\"]"
   ]
  },
  {
   "cell_type": "code",
   "execution_count": 84,
   "outputs": [],
   "source": [
    "def iterate_files():\n",
    "    for f in os.listdir(folder):\n",
    "        run_folder = os.path.join(folder, f)\n",
    "        result_file = os.path.join(run_folder, \"result.txt\")\n",
    "        if os.path.exists(result_file):\n",
    "            yield result_file\n",
    "        else:\n",
    "            print(f\"WARNING: no result file in {run_folder}\")"
   ],
   "metadata": {
    "collapsed": false,
    "pycharm": {
     "name": "#%%\n"
    }
   }
  },
  {
   "cell_type": "code",
   "execution_count": 85,
   "outputs": [],
   "source": [
    "def fix_attribute(name, old_value, new_value):\n",
    "    for result_file in iterate_files():\n",
    "        content_lines = []\n",
    "        with open(result_file) as r_file:\n",
    "            for line in r_file.readlines():\n",
    "                if line.startswith(f\"{name}: {old_value}\"):\n",
    "                    content_lines.append(f\"{name}: {new_value}\\n\")\n",
    "                else:\n",
    "                    content_lines.append(f\"{line}\")\n",
    "        os.remove(result_file)\n",
    "        with open(result_file, \"w\") as f:\n",
    "            f.writelines(content_lines)\n",
    "\n",
    "# fix_attribute(\"N-Hidden\", 10, 24)"
   ],
   "metadata": {
    "collapsed": false,
    "pycharm": {
     "name": "#%%\n"
    }
   }
  },
  {
   "cell_type": "code",
   "execution_count": 86,
   "outputs": [],
   "source": [
    "def add_attribute(name, default_value):\n",
    "    for result_file in iterate_files():\n",
    "        attr_present = False\n",
    "        content_lines = []\n",
    "        with open(result_file) as r_file:\n",
    "            for line in r_file.readlines():\n",
    "                if line.startswith(name):\n",
    "                    attr_present = True\n",
    "                content_lines.append(f\"{line}\")\n",
    "            if not attr_present:\n",
    "                content_lines = [f\"{name}: {default_value}\\n\"] + content_lines\n",
    "        os.remove(result_file)\n",
    "        with open(result_file, \"w\") as f:\n",
    "            f.writelines(content_lines)\n",
    "\n",
    "# add_attribute(\"Linear\", 1)"
   ],
   "metadata": {
    "collapsed": false,
    "pycharm": {
     "name": "#%%\n"
    }
   }
  },
  {
   "cell_type": "code",
   "execution_count": 87,
   "outputs": [],
   "source": [
    "result_contents = dict()\n",
    "for f in features + target:\n",
    "    result_contents[f] = list()\n",
    "\n",
    "for result_file in iterate_files():\n",
    "    with open(result_file) as r_file:\n",
    "        for line in r_file.readlines():\n",
    "            if \":\" in line:\n",
    "                parts = line.split(\":\")\n",
    "                if parts[0] in features:\n",
    "                    result_contents[parts[0]].append(float(parts[1]))\n",
    "                elif parts[0] == target[0]:\n",
    "                    t_parts = parts[1].split(' +- ')\n",
    "                    result_contents[target[0]].append(float(t_parts[0]))\n",
    "                    result_contents[target[1]].append(float(t_parts[1]))"
   ],
   "metadata": {
    "collapsed": false,
    "pycharm": {
     "name": "#%%\n"
    }
   }
  },
  {
   "cell_type": "code",
   "execution_count": 88,
   "outputs": [
    {
     "data": {
      "text/plain": "    Budget  Noise  Alpha      C  N-Steps    LR  Interactions  N-Hidden  \\\n0    800.0    1.0    0.6  500.0      2.0  0.01      250000.0      24.0   \n1    800.0    1.0    0.6  500.0      1.0  0.01      250000.0      24.0   \n2   1600.0    1.0    0.6  500.0      1.0  0.01      250000.0      24.0   \n3    800.0    1.0    0.6  500.0      1.0  0.01      100000.0      24.0   \n4    800.0    1.0    0.6  500.0      2.0  0.01      100000.0      24.0   \n..     ...    ...    ...    ...      ...   ...           ...       ...   \n58  1600.0    1.0    0.6  500.0      2.0  0.01      250000.0      24.0   \n59   800.0    1.0    0.6  500.0      1.0  0.01      100000.0      24.0   \n60  1600.0    1.0    0.6  500.0      2.0  0.01      100000.0      24.0   \n61   800.0    1.0    0.6  500.0      1.0  0.01      250000.0      24.0   \n62  1600.0    1.0    0.6  500.0      2.0  0.01      100000.0      24.0   \n\n    Regularization  Gamma  Reward-Noise  Linear  Regret     Std  \n0          0.00100    0.0           1.0     1.0  0.0900  0.0024  \n1          0.00100    0.0           1.0     1.0  0.0598  0.0014  \n2          0.00010    0.0           1.0     1.0  0.0756  0.0038  \n3          0.00001    0.0           1.0     1.0  0.0424  0.0025  \n4          0.01000    0.0           1.0     1.0  0.1278  0.0064  \n..             ...    ...           ...     ...     ...     ...  \n58         0.00100    0.0           1.0     1.0  0.1960  0.0035  \n59         0.00010    0.0           1.0     1.0  0.0431  0.0053  \n60         0.00100    0.0           1.0     1.0  0.2126  0.0050  \n61         0.00001    0.0           1.0     1.0  0.0060  0.0025  \n62         0.01000    0.0           1.0     1.0  0.2652  0.0083  \n\n[63 rows x 14 columns]",
      "text/html": "<div>\n<style scoped>\n    .dataframe tbody tr th:only-of-type {\n        vertical-align: middle;\n    }\n\n    .dataframe tbody tr th {\n        vertical-align: top;\n    }\n\n    .dataframe thead th {\n        text-align: right;\n    }\n</style>\n<table border=\"1\" class=\"dataframe\">\n  <thead>\n    <tr style=\"text-align: right;\">\n      <th></th>\n      <th>Budget</th>\n      <th>Noise</th>\n      <th>Alpha</th>\n      <th>C</th>\n      <th>N-Steps</th>\n      <th>LR</th>\n      <th>Interactions</th>\n      <th>N-Hidden</th>\n      <th>Regularization</th>\n      <th>Gamma</th>\n      <th>Reward-Noise</th>\n      <th>Linear</th>\n      <th>Regret</th>\n      <th>Std</th>\n    </tr>\n  </thead>\n  <tbody>\n    <tr>\n      <th>0</th>\n      <td>800.0</td>\n      <td>1.0</td>\n      <td>0.6</td>\n      <td>500.0</td>\n      <td>2.0</td>\n      <td>0.01</td>\n      <td>250000.0</td>\n      <td>24.0</td>\n      <td>0.00100</td>\n      <td>0.0</td>\n      <td>1.0</td>\n      <td>1.0</td>\n      <td>0.0900</td>\n      <td>0.0024</td>\n    </tr>\n    <tr>\n      <th>1</th>\n      <td>800.0</td>\n      <td>1.0</td>\n      <td>0.6</td>\n      <td>500.0</td>\n      <td>1.0</td>\n      <td>0.01</td>\n      <td>250000.0</td>\n      <td>24.0</td>\n      <td>0.00100</td>\n      <td>0.0</td>\n      <td>1.0</td>\n      <td>1.0</td>\n      <td>0.0598</td>\n      <td>0.0014</td>\n    </tr>\n    <tr>\n      <th>2</th>\n      <td>1600.0</td>\n      <td>1.0</td>\n      <td>0.6</td>\n      <td>500.0</td>\n      <td>1.0</td>\n      <td>0.01</td>\n      <td>250000.0</td>\n      <td>24.0</td>\n      <td>0.00010</td>\n      <td>0.0</td>\n      <td>1.0</td>\n      <td>1.0</td>\n      <td>0.0756</td>\n      <td>0.0038</td>\n    </tr>\n    <tr>\n      <th>3</th>\n      <td>800.0</td>\n      <td>1.0</td>\n      <td>0.6</td>\n      <td>500.0</td>\n      <td>1.0</td>\n      <td>0.01</td>\n      <td>100000.0</td>\n      <td>24.0</td>\n      <td>0.00001</td>\n      <td>0.0</td>\n      <td>1.0</td>\n      <td>1.0</td>\n      <td>0.0424</td>\n      <td>0.0025</td>\n    </tr>\n    <tr>\n      <th>4</th>\n      <td>800.0</td>\n      <td>1.0</td>\n      <td>0.6</td>\n      <td>500.0</td>\n      <td>2.0</td>\n      <td>0.01</td>\n      <td>100000.0</td>\n      <td>24.0</td>\n      <td>0.01000</td>\n      <td>0.0</td>\n      <td>1.0</td>\n      <td>1.0</td>\n      <td>0.1278</td>\n      <td>0.0064</td>\n    </tr>\n    <tr>\n      <th>...</th>\n      <td>...</td>\n      <td>...</td>\n      <td>...</td>\n      <td>...</td>\n      <td>...</td>\n      <td>...</td>\n      <td>...</td>\n      <td>...</td>\n      <td>...</td>\n      <td>...</td>\n      <td>...</td>\n      <td>...</td>\n      <td>...</td>\n      <td>...</td>\n    </tr>\n    <tr>\n      <th>58</th>\n      <td>1600.0</td>\n      <td>1.0</td>\n      <td>0.6</td>\n      <td>500.0</td>\n      <td>2.0</td>\n      <td>0.01</td>\n      <td>250000.0</td>\n      <td>24.0</td>\n      <td>0.00100</td>\n      <td>0.0</td>\n      <td>1.0</td>\n      <td>1.0</td>\n      <td>0.1960</td>\n      <td>0.0035</td>\n    </tr>\n    <tr>\n      <th>59</th>\n      <td>800.0</td>\n      <td>1.0</td>\n      <td>0.6</td>\n      <td>500.0</td>\n      <td>1.0</td>\n      <td>0.01</td>\n      <td>100000.0</td>\n      <td>24.0</td>\n      <td>0.00010</td>\n      <td>0.0</td>\n      <td>1.0</td>\n      <td>1.0</td>\n      <td>0.0431</td>\n      <td>0.0053</td>\n    </tr>\n    <tr>\n      <th>60</th>\n      <td>1600.0</td>\n      <td>1.0</td>\n      <td>0.6</td>\n      <td>500.0</td>\n      <td>2.0</td>\n      <td>0.01</td>\n      <td>100000.0</td>\n      <td>24.0</td>\n      <td>0.00100</td>\n      <td>0.0</td>\n      <td>1.0</td>\n      <td>1.0</td>\n      <td>0.2126</td>\n      <td>0.0050</td>\n    </tr>\n    <tr>\n      <th>61</th>\n      <td>800.0</td>\n      <td>1.0</td>\n      <td>0.6</td>\n      <td>500.0</td>\n      <td>1.0</td>\n      <td>0.01</td>\n      <td>250000.0</td>\n      <td>24.0</td>\n      <td>0.00001</td>\n      <td>0.0</td>\n      <td>1.0</td>\n      <td>1.0</td>\n      <td>0.0060</td>\n      <td>0.0025</td>\n    </tr>\n    <tr>\n      <th>62</th>\n      <td>1600.0</td>\n      <td>1.0</td>\n      <td>0.6</td>\n      <td>500.0</td>\n      <td>2.0</td>\n      <td>0.01</td>\n      <td>100000.0</td>\n      <td>24.0</td>\n      <td>0.01000</td>\n      <td>0.0</td>\n      <td>1.0</td>\n      <td>1.0</td>\n      <td>0.2652</td>\n      <td>0.0083</td>\n    </tr>\n  </tbody>\n</table>\n<p>63 rows × 14 columns</p>\n</div>"
     },
     "execution_count": 88,
     "metadata": {},
     "output_type": "execute_result"
    }
   ],
   "source": [
    "df = pd.DataFrame.from_dict(result_contents)\n",
    "df"
   ],
   "metadata": {
    "collapsed": false,
    "pycharm": {
     "name": "#%%\n"
    }
   }
  },
  {
   "cell_type": "code",
   "execution_count": 89,
   "outputs": [],
   "source": [
    "def plot_boxplot(col_name, df):\n",
    "    labels = df[col_name].unique()\n",
    "    labels = sorted(labels)\n",
    "    #print(labels)\n",
    "    result = dict()\n",
    "    for v in labels:\n",
    "        result[v] = list()\n",
    "    for index, row in df.iterrows():\n",
    "        result[row[col_name]].append(row[\"Regret\"])\n",
    "    values = list()\n",
    "    print(\"Values\")\n",
    "    for k, v in result.items():\n",
    "        values.append(v)\n",
    "        print(\"%s: %1.4f +- %1.4f\"%(k, np.mean(v), np.std(v)))\n",
    "\n",
    "    fig = plt.figure()\n",
    "    ax = fig.add_subplot(111)\n",
    "    ax.boxplot(values)\n",
    "    ax.set_xlabel(col_name)\n",
    "    ax.set_ylabel(\"Regret\")\n",
    "    plt.setp(ax, xticks=range(1, len(labels)+1), xticklabels=labels)\n",
    "    plt.show()\n",
    "    plt.clf()"
   ],
   "metadata": {
    "collapsed": false,
    "pycharm": {
     "name": "#%%\n"
    }
   }
  },
  {
   "cell_type": "code",
   "execution_count": 90,
   "outputs": [],
   "source": [
    "def plot_heatmap(col_name, row_name, df):\n",
    "    columns = df[col_name].unique()\n",
    "    columns = sorted(columns)\n",
    "    columns = [str(c) for c in columns]\n",
    "    rows = df[row_name].unique()\n",
    "    rows = sorted(rows)\n",
    "    rows = [str(r) for r in rows]\n",
    "\n",
    "    heatmap_df = pd.DataFrame(columns=columns, index=rows, dtype=\"float\")\n",
    "    divisors_df = heatmap_df.copy(deep=True)\n",
    "    for rowIndex, row in divisors_df.iterrows():\n",
    "        for columnIndex, value in row.items():\n",
    "            heatmap_df.at[rowIndex, columnIndex] = 0.0\n",
    "            divisors_df.at[rowIndex, columnIndex] = 0.0\n",
    "\n",
    "    for index, row in df.iterrows():\n",
    "        heatmap_df.at[str(row[row_name]), str(row[col_name])] += float(row[\"Regret\"])\n",
    "        divisors_df.at[str(row[row_name]), str(row[col_name])] += 1.0\n",
    "\n",
    "    for rowIndex, row in heatmap_df.iterrows():\n",
    "        for columnIndex, value in row.items():\n",
    "            if divisors_df.at[rowIndex, columnIndex] == 0:\n",
    "                heatmap_df.at[rowIndex, columnIndex] = np.NAN\n",
    "            else:\n",
    "                heatmap_df.at[rowIndex, columnIndex] /= divisors_df.at[rowIndex, columnIndex]\n",
    "\n",
    "    hm = sns.heatmap(heatmap_df, annot=True)\n",
    "    hm.set(xlabel=col_name, ylabel=row_name)\n",
    "    plt.show()"
   ],
   "metadata": {
    "collapsed": false,
    "pycharm": {
     "name": "#%%\n"
    }
   }
  },
  {
   "cell_type": "markdown",
   "source": [
    "## How many N-Steps do we need?"
   ],
   "metadata": {
    "collapsed": false,
    "pycharm": {
     "name": "#%% md\n"
    }
   }
  },
  {
   "cell_type": "code",
   "execution_count": 91,
   "outputs": [
    {
     "data": {
      "text/plain": "<Figure size 432x288 with 2 Axes>",
      "image/png": "[encoded data removed]"
     },
     "metadata": {},
     "output_type": "display_data"
    },
    {
     "name": "stdout",
     "output_type": "stream",
     "text": [
      "Values\n",
      "1.0: 0.1108 +- 0.0744\n",
      "2.0: 0.1617 +- 0.0666\n"
     ]
    },
    {
     "data": {
      "text/plain": "<Figure size 432x288 with 1 Axes>",
      "image/png": "[encoded data removed]"
     },
     "metadata": {},
     "output_type": "display_data"
    },
    {
     "data": {
      "text/plain": "<Figure size 432x288 with 0 Axes>"
     },
     "metadata": {},
     "output_type": "display_data"
    }
   ],
   "source": [
    "plot_heatmap(\"Budget\", \"N-Steps\", df)\n",
    "plot_boxplot(\"N-Steps\", df)"
   ],
   "metadata": {
    "collapsed": false,
    "pycharm": {
     "name": "#%%\n"
    }
   }
  },
  {
   "cell_type": "markdown",
   "source": [
    "## How much noise can be tolerated?"
   ],
   "metadata": {
    "collapsed": false,
    "pycharm": {
     "name": "#%% md\n"
    }
   }
  },
  {
   "cell_type": "code",
   "execution_count": 92,
   "outputs": [
    {
     "name": "stdout",
     "output_type": "stream",
     "text": [
      "Values\n",
      "1.0: 0.1358 +- 0.0751\n"
     ]
    },
    {
     "data": {
      "text/plain": "<Figure size 432x288 with 1 Axes>",
      "image/png": "[encoded data removed]"
     },
     "metadata": {},
     "output_type": "display_data"
    },
    {
     "data": {
      "text/plain": "<Figure size 432x288 with 2 Axes>",
      "image/png": "[encoded data removed]"
     },
     "metadata": {},
     "output_type": "display_data"
    }
   ],
   "source": [
    "plot_boxplot(\"Noise\", df)\n",
    "plot_heatmap(\"N-Steps\", \"Noise\", df)"
   ],
   "metadata": {
    "collapsed": false,
    "pycharm": {
     "name": "#%%\n"
    }
   }
  },
  {
   "cell_type": "markdown",
   "source": [
    "### How Many Interactions per Budget?"
   ],
   "metadata": {
    "collapsed": false,
    "pycharm": {
     "name": "#%% md\n"
    }
   }
  },
  {
   "cell_type": "code",
   "execution_count": 93,
   "outputs": [
    {
     "data": {
      "text/plain": "<Figure size 432x288 with 2 Axes>",
      "image/png": "[encoded data removed]"
     },
     "metadata": {},
     "output_type": "display_data"
    }
   ],
   "source": [
    "plot_heatmap(\"Budget\", \"Interactions\", df)"
   ],
   "metadata": {
    "collapsed": false,
    "pycharm": {
     "name": "#%%\n"
    }
   }
  },
  {
   "cell_type": "markdown",
   "source": [
    "### Size of the Linear Agent"
   ],
   "metadata": {
    "collapsed": false,
    "pycharm": {
     "name": "#%% md\n"
    }
   }
  },
  {
   "cell_type": "code",
   "execution_count": 94,
   "outputs": [
    {
     "name": "stdout",
     "output_type": "stream",
     "text": [
      "Values\n",
      "24.0: 0.1358 +- 0.0751\n"
     ]
    },
    {
     "data": {
      "text/plain": "<Figure size 432x288 with 1 Axes>",
      "image/png": "[encoded data removed]"
     },
     "metadata": {},
     "output_type": "display_data"
    },
    {
     "data": {
      "text/plain": "<Figure size 432x288 with 0 Axes>"
     },
     "metadata": {},
     "output_type": "display_data"
    }
   ],
   "source": [
    "plot_boxplot(\"N-Hidden\", df)"
   ],
   "metadata": {
    "collapsed": false,
    "pycharm": {
     "name": "#%%\n"
    }
   }
  },
  {
   "cell_type": "markdown",
   "source": [
    "### Best Model for 1600 Budget"
   ],
   "metadata": {
    "collapsed": false,
    "pycharm": {
     "name": "#%% md\n"
    }
   }
  },
  {
   "cell_type": "code",
   "execution_count": 95,
   "outputs": [
    {
     "data": {
      "text/plain": "    Budget  Noise  Alpha      C  N-Steps    LR  Interactions  N-Hidden  \\\n2   1600.0    1.0    0.6  500.0      1.0  0.01      250000.0      24.0   \n5   1600.0    1.0    0.6  500.0      1.0  0.01      100000.0      24.0   \n6   1600.0    1.0    0.6  500.0      1.0  0.01      100000.0      24.0   \n10  1600.0    1.0    0.6  500.0      2.0  0.01      100000.0      24.0   \n11  1600.0    1.0    0.6  500.0      1.0  0.01      250000.0      24.0   \n12  1600.0    1.0    0.6  500.0      2.0  0.01      250000.0      24.0   \n13  1600.0    1.0    0.6  500.0      1.0  0.01      100000.0      24.0   \n16  1600.0    1.0    0.6  500.0      1.0  0.01      250000.0      24.0   \n18  1600.0    1.0    0.6  500.0      2.0  0.01      250000.0      24.0   \n23  1600.0    1.0    0.6  500.0      2.0  0.01      100000.0      24.0   \n27  1600.0    1.0    0.6  500.0      1.0  0.01      100000.0      24.0   \n30  1600.0    1.0    0.6  500.0      1.0  0.01      100000.0      24.0   \n31  1600.0    1.0    0.6  500.0      1.0  0.01      250000.0      24.0   \n32  1600.0    1.0    0.6  500.0      2.0  0.01      250000.0      24.0   \n34  1600.0    1.0    0.6  500.0      2.0  0.01      100000.0      24.0   \n35  1600.0    1.0    0.6  500.0      2.0  0.01      100000.0      24.0   \n36  1600.0    1.0    0.6  500.0      2.0  0.01      100000.0      24.0   \n41  1600.0    1.0    0.6  500.0      2.0  0.01      250000.0      24.0   \n42  1600.0    1.0    0.6  500.0      1.0  0.01      250000.0      24.0   \n44  1600.0    1.0    0.6  500.0      2.0  0.01      100000.0      24.0   \n45  1600.0    1.0    0.6  500.0      1.0  0.01      250000.0      24.0   \n46  1600.0    1.0    0.6  500.0      1.0  0.01      100000.0      24.0   \n47  1600.0    1.0    0.6  500.0      2.0  0.01      250000.0      24.0   \n48  1600.0    1.0    0.6  500.0      1.0  0.01      100000.0      24.0   \n49  1600.0    1.0    0.6  500.0      1.0  0.01      100000.0      24.0   \n51  1600.0    1.0    0.6  500.0      2.0  0.01      250000.0      24.0   \n52  1600.0    1.0    0.6  500.0      1.0  0.01      250000.0      24.0   \n54  1600.0    1.0    0.6  500.0      1.0  0.01      250000.0      24.0   \n58  1600.0    1.0    0.6  500.0      2.0  0.01      250000.0      24.0   \n60  1600.0    1.0    0.6  500.0      2.0  0.01      100000.0      24.0   \n62  1600.0    1.0    0.6  500.0      2.0  0.01      100000.0      24.0   \n\n    Regularization  Gamma  Reward-Noise  Linear  Regret     Std  \n2          0.00010    0.0           1.0     1.0  0.0756  0.0038  \n5          0.01000    0.0           1.0     1.0  0.2495  0.0049  \n6          0.00100    0.0           1.0     1.0  0.1921  0.0096  \n10         0.00001    0.0           1.0     1.0  0.2687  0.0013  \n11         0.01000    0.0           1.0     1.0  0.2468  0.0078  \n12         0.01000    0.0           1.0     1.0  0.2566  0.0030  \n13         0.00100    0.0           1.0     1.0  0.1898  0.0136  \n16         0.00100    0.0           1.0     1.0  0.1417  0.0021  \n18         0.00010    0.0           1.0     1.0  0.1573  0.0096  \n23         0.01000    0.0           1.0     1.0  0.2582  0.0152  \n27         0.00001    0.0           1.0     1.0  0.1412  0.0059  \n30         0.01000    0.0           1.0     1.0  0.2598  0.0127  \n31         0.01000    0.0           1.0     1.0  0.2483  0.0079  \n32         0.00001    0.0           1.0     1.0  0.2348  0.0025  \n34         0.00010    0.0           1.0     1.0  0.1999  0.0143  \n35         0.00001    0.0           1.0     1.0  0.2596  0.0204  \n36         0.00100    0.0           1.0     1.0  0.2191  0.0143  \n41         0.00010    0.0           1.0     1.0  0.1543  0.0044  \n42         0.00001    0.0           1.0     1.0  0.0566  0.0028  \n44         0.00010    0.0           1.0     1.0  0.2198  0.0081  \n45         0.00100    0.0           1.0     1.0  0.1467  0.0035  \n46         0.00001    0.0           1.0     1.0  0.1652  0.0130  \n47         0.01000    0.0           1.0     1.0  0.2536  0.0013  \n48         0.00010    0.0           1.0     1.0  0.1540  0.0073  \n49         0.00010    0.0           1.0     1.0  0.1617  0.0038  \n51         0.00100    0.0           1.0     1.0  0.1908  0.0030  \n52         0.00001    0.0           1.0     1.0  0.0645  0.0051  \n54         0.00010    0.0           1.0     1.0  0.0746  0.0045  \n58         0.00100    0.0           1.0     1.0  0.1960  0.0035  \n60         0.00100    0.0           1.0     1.0  0.2126  0.0050  \n62         0.01000    0.0           1.0     1.0  0.2652  0.0083  ",
      "text/html": "<div>\n<style scoped>\n    .dataframe tbody tr th:only-of-type {\n        vertical-align: middle;\n    }\n\n    .dataframe tbody tr th {\n        vertical-align: top;\n    }\n\n    .dataframe thead th {\n        text-align: right;\n    }\n</style>\n<table border=\"1\" class=\"dataframe\">\n  <thead>\n    <tr style=\"text-align: right;\">\n      <th></th>\n      <th>Budget</th>\n      <th>Noise</th>\n      <th>Alpha</th>\n      <th>C</th>\n      <th>N-Steps</th>\n      <th>LR</th>\n      <th>Interactions</th>\n      <th>N-Hidden</th>\n      <th>Regularization</th>\n      <th>Gamma</th>\n      <th>Reward-Noise</th>\n      <th>Linear</th>\n      <th>Regret</th>\n      <th>Std</th>\n    </tr>\n  </thead>\n  <tbody>\n    <tr>\n      <th>2</th>\n      <td>1600.0</td>\n      <td>1.0</td>\n      <td>0.6</td>\n      <td>500.0</td>\n      <td>1.0</td>\n      <td>0.01</td>\n      <td>250000.0</td>\n      <td>24.0</td>\n      <td>0.00010</td>\n      <td>0.0</td>\n      <td>1.0</td>\n      <td>1.0</td>\n      <td>0.0756</td>\n      <td>0.0038</td>\n    </tr>\n    <tr>\n      <th>5</th>\n      <td>1600.0</td>\n      <td>1.0</td>\n      <td>0.6</td>\n      <td>500.0</td>\n      <td>1.0</td>\n      <td>0.01</td>\n      <td>100000.0</td>\n      <td>24.0</td>\n      <td>0.01000</td>\n      <td>0.0</td>\n      <td>1.0</td>\n      <td>1.0</td>\n      <td>0.2495</td>\n      <td>0.0049</td>\n    </tr>\n    <tr>\n      <th>6</th>\n      <td>1600.0</td>\n      <td>1.0</td>\n      <td>0.6</td>\n      <td>500.0</td>\n      <td>1.0</td>\n      <td>0.01</td>\n      <td>100000.0</td>\n      <td>24.0</td>\n      <td>0.00100</td>\n      <td>0.0</td>\n      <td>1.0</td>\n      <td>1.0</td>\n      <td>0.1921</td>\n      <td>0.0096</td>\n    </tr>\n    <tr>\n      <th>10</th>\n      <td>1600.0</td>\n      <td>1.0</td>\n      <td>0.6</td>\n      <td>500.0</td>\n      <td>2.0</td>\n      <td>0.01</td>\n      <td>100000.0</td>\n      <td>24.0</td>\n      <td>0.00001</td>\n      <td>0.0</td>\n      <td>1.0</td>\n      <td>1.0</td>\n      <td>0.2687</td>\n      <td>0.0013</td>\n    </tr>\n    <tr>\n      <th>11</th>\n      <td>1600.0</td>\n      <td>1.0</td>\n      <td>0.6</td>\n      <td>500.0</td>\n      <td>1.0</td>\n      <td>0.01</td>\n      <td>250000.0</td>\n      <td>24.0</td>\n      <td>0.01000</td>\n      <td>0.0</td>\n      <td>1.0</td>\n      <td>1.0</td>\n      <td>0.2468</td>\n      <td>0.0078</td>\n    </tr>\n    <tr>\n      <th>12</th>\n      <td>1600.0</td>\n      <td>1.0</td>\n      <td>0.6</td>\n      <td>500.0</td>\n      <td>2.0</td>\n      <td>0.01</td>\n      <td>250000.0</td>\n      <td>24.0</td>\n      <td>0.01000</td>\n      <td>0.0</td>\n      <td>1.0</td>\n      <td>1.0</td>\n      <td>0.2566</td>\n      <td>0.0030</td>\n    </tr>\n    <tr>\n      <th>13</th>\n      <td>1600.0</td>\n      <td>1.0</td>\n      <td>0.6</td>\n      <td>500.0</td>\n      <td>1.0</td>\n      <td>0.01</td>\n      <td>100000.0</td>\n      <td>24.0</td>\n      <td>0.00100</td>\n      <td>0.0</td>\n      <td>1.0</td>\n      <td>1.0</td>\n      <td>0.1898</td>\n      <td>0.0136</td>\n    </tr>\n    <tr>\n      <th>16</th>\n      <td>1600.0</td>\n      <td>1.0</td>\n      <td>0.6</td>\n      <td>500.0</td>\n      <td>1.0</td>\n      <td>0.01</td>\n      <td>250000.0</td>\n      <td>24.0</td>\n      <td>0.00100</td>\n      <td>0.0</td>\n      <td>1.0</td>\n      <td>1.0</td>\n      <td>0.1417</td>\n      <td>0.0021</td>\n    </tr>\n    <tr>\n      <th>18</th>\n      <td>1600.0</td>\n      <td>1.0</td>\n      <td>0.6</td>\n      <td>500.0</td>\n      <td>2.0</td>\n      <td>0.01</td>\n      <td>250000.0</td>\n      <td>24.0</td>\n      <td>0.00010</td>\n      <td>0.0</td>\n      <td>1.0</td>\n      <td>1.0</td>\n      <td>0.1573</td>\n      <td>0.0096</td>\n    </tr>\n    <tr>\n      <th>23</th>\n      <td>1600.0</td>\n      <td>1.0</td>\n      <td>0.6</td>\n      <td>500.0</td>\n      <td>2.0</td>\n      <td>0.01</td>\n      <td>100000.0</td>\n      <td>24.0</td>\n      <td>0.01000</td>\n      <td>0.0</td>\n      <td>1.0</td>\n      <td>1.0</td>\n      <td>0.2582</td>\n      <td>0.0152</td>\n    </tr>\n    <tr>\n      <th>27</th>\n      <td>1600.0</td>\n      <td>1.0</td>\n      <td>0.6</td>\n      <td>500.0</td>\n      <td>1.0</td>\n      <td>0.01</td>\n      <td>100000.0</td>\n      <td>24.0</td>\n      <td>0.00001</td>\n      <td>0.0</td>\n      <td>1.0</td>\n      <td>1.0</td>\n      <td>0.1412</td>\n      <td>0.0059</td>\n    </tr>\n    <tr>\n      <th>30</th>\n      <td>1600.0</td>\n      <td>1.0</td>\n      <td>0.6</td>\n      <td>500.0</td>\n      <td>1.0</td>\n      <td>0.01</td>\n      <td>100000.0</td>\n      <td>24.0</td>\n      <td>0.01000</td>\n      <td>0.0</td>\n      <td>1.0</td>\n      <td>1.0</td>\n      <td>0.2598</td>\n      <td>0.0127</td>\n    </tr>\n    <tr>\n      <th>31</th>\n      <td>1600.0</td>\n      <td>1.0</td>\n      <td>0.6</td>\n      <td>500.0</td>\n      <td>1.0</td>\n      <td>0.01</td>\n      <td>250000.0</td>\n      <td>24.0</td>\n      <td>0.01000</td>\n      <td>0.0</td>\n      <td>1.0</td>\n      <td>1.0</td>\n      <td>0.2483</td>\n      <td>0.0079</td>\n    </tr>\n    <tr>\n      <th>32</th>\n      <td>1600.0</td>\n      <td>1.0</td>\n      <td>0.6</td>\n      <td>500.0</td>\n      <td>2.0</td>\n      <td>0.01</td>\n      <td>250000.0</td>\n      <td>24.0</td>\n      <td>0.00001</td>\n      <td>0.0</td>\n      <td>1.0</td>\n      <td>1.0</td>\n      <td>0.2348</td>\n      <td>0.0025</td>\n    </tr>\n    <tr>\n      <th>34</th>\n      <td>1600.0</td>\n      <td>1.0</td>\n      <td>0.6</td>\n      <td>500.0</td>\n      <td>2.0</td>\n      <td>0.01</td>\n      <td>100000.0</td>\n      <td>24.0</td>\n      <td>0.00010</td>\n      <td>0.0</td>\n      <td>1.0</td>\n      <td>1.0</td>\n      <td>0.1999</td>\n      <td>0.0143</td>\n    </tr>\n    <tr>\n      <th>35</th>\n      <td>1600.0</td>\n      <td>1.0</td>\n      <td>0.6</td>\n      <td>500.0</td>\n      <td>2.0</td>\n      <td>0.01</td>\n      <td>100000.0</td>\n      <td>24.0</td>\n      <td>0.00001</td>\n      <td>0.0</td>\n      <td>1.0</td>\n      <td>1.0</td>\n      <td>0.2596</td>\n      <td>0.0204</td>\n    </tr>\n    <tr>\n      <th>36</th>\n      <td>1600.0</td>\n      <td>1.0</td>\n      <td>0.6</td>\n      <td>500.0</td>\n      <td>2.0</td>\n      <td>0.01</td>\n      <td>100000.0</td>\n      <td>24.0</td>\n      <td>0.00100</td>\n      <td>0.0</td>\n      <td>1.0</td>\n      <td>1.0</td>\n      <td>0.2191</td>\n      <td>0.0143</td>\n    </tr>\n    <tr>\n      <th>41</th>\n      <td>1600.0</td>\n      <td>1.0</td>\n      <td>0.6</td>\n      <td>500.0</td>\n      <td>2.0</td>\n      <td>0.01</td>\n      <td>250000.0</td>\n      <td>24.0</td>\n      <td>0.00010</td>\n      <td>0.0</td>\n      <td>1.0</td>\n      <td>1.0</td>\n      <td>0.1543</td>\n      <td>0.0044</td>\n    </tr>\n    <tr>\n      <th>42</th>\n      <td>1600.0</td>\n      <td>1.0</td>\n      <td>0.6</td>\n      <td>500.0</td>\n      <td>1.0</td>\n      <td>0.01</td>\n      <td>250000.0</td>\n      <td>24.0</td>\n      <td>0.00001</td>\n      <td>0.0</td>\n      <td>1.0</td>\n      <td>1.0</td>\n      <td>0.0566</td>\n      <td>0.0028</td>\n    </tr>\n    <tr>\n      <th>44</th>\n      <td>1600.0</td>\n      <td>1.0</td>\n      <td>0.6</td>\n      <td>500.0</td>\n      <td>2.0</td>\n      <td>0.01</td>\n      <td>100000.0</td>\n      <td>24.0</td>\n      <td>0.00010</td>\n      <td>0.0</td>\n      <td>1.0</td>\n      <td>1.0</td>\n      <td>0.2198</td>\n      <td>0.0081</td>\n    </tr>\n    <tr>\n      <th>45</th>\n      <td>1600.0</td>\n      <td>1.0</td>\n      <td>0.6</td>\n      <td>500.0</td>\n      <td>1.0</td>\n      <td>0.01</td>\n      <td>250000.0</td>\n      <td>24.0</td>\n      <td>0.00100</td>\n      <td>0.0</td>\n      <td>1.0</td>\n      <td>1.0</td>\n      <td>0.1467</td>\n      <td>0.0035</td>\n    </tr>\n    <tr>\n      <th>46</th>\n      <td>1600.0</td>\n      <td>1.0</td>\n      <td>0.6</td>\n      <td>500.0</td>\n      <td>1.0</td>\n      <td>0.01</td>\n      <td>100000.0</td>\n      <td>24.0</td>\n      <td>0.00001</td>\n      <td>0.0</td>\n      <td>1.0</td>\n      <td>1.0</td>\n      <td>0.1652</td>\n      <td>0.0130</td>\n    </tr>\n    <tr>\n      <th>47</th>\n      <td>1600.0</td>\n      <td>1.0</td>\n      <td>0.6</td>\n      <td>500.0</td>\n      <td>2.0</td>\n      <td>0.01</td>\n      <td>250000.0</td>\n      <td>24.0</td>\n      <td>0.01000</td>\n      <td>0.0</td>\n      <td>1.0</td>\n      <td>1.0</td>\n      <td>0.2536</td>\n      <td>0.0013</td>\n    </tr>\n    <tr>\n      <th>48</th>\n      <td>1600.0</td>\n      <td>1.0</td>\n      <td>0.6</td>\n      <td>500.0</td>\n      <td>1.0</td>\n      <td>0.01</td>\n      <td>100000.0</td>\n      <td>24.0</td>\n      <td>0.00010</td>\n      <td>0.0</td>\n      <td>1.0</td>\n      <td>1.0</td>\n      <td>0.1540</td>\n      <td>0.0073</td>\n    </tr>\n    <tr>\n      <th>49</th>\n      <td>1600.0</td>\n      <td>1.0</td>\n      <td>0.6</td>\n      <td>500.0</td>\n      <td>1.0</td>\n      <td>0.01</td>\n      <td>100000.0</td>\n      <td>24.0</td>\n      <td>0.00010</td>\n      <td>0.0</td>\n      <td>1.0</td>\n      <td>1.0</td>\n      <td>0.1617</td>\n      <td>0.0038</td>\n    </tr>\n    <tr>\n      <th>51</th>\n      <td>1600.0</td>\n      <td>1.0</td>\n      <td>0.6</td>\n      <td>500.0</td>\n      <td>2.0</td>\n      <td>0.01</td>\n      <td>250000.0</td>\n      <td>24.0</td>\n      <td>0.00100</td>\n      <td>0.0</td>\n      <td>1.0</td>\n      <td>1.0</td>\n      <td>0.1908</td>\n      <td>0.0030</td>\n    </tr>\n    <tr>\n      <th>52</th>\n      <td>1600.0</td>\n      <td>1.0</td>\n      <td>0.6</td>\n      <td>500.0</td>\n      <td>1.0</td>\n      <td>0.01</td>\n      <td>250000.0</td>\n      <td>24.0</td>\n      <td>0.00001</td>\n      <td>0.0</td>\n      <td>1.0</td>\n      <td>1.0</td>\n      <td>0.0645</td>\n      <td>0.0051</td>\n    </tr>\n    <tr>\n      <th>54</th>\n      <td>1600.0</td>\n      <td>1.0</td>\n      <td>0.6</td>\n      <td>500.0</td>\n      <td>1.0</td>\n      <td>0.01</td>\n      <td>250000.0</td>\n      <td>24.0</td>\n      <td>0.00010</td>\n      <td>0.0</td>\n      <td>1.0</td>\n      <td>1.0</td>\n      <td>0.0746</td>\n      <td>0.0045</td>\n    </tr>\n    <tr>\n      <th>58</th>\n      <td>1600.0</td>\n      <td>1.0</td>\n      <td>0.6</td>\n      <td>500.0</td>\n      <td>2.0</td>\n      <td>0.01</td>\n      <td>250000.0</td>\n      <td>24.0</td>\n      <td>0.00100</td>\n      <td>0.0</td>\n      <td>1.0</td>\n      <td>1.0</td>\n      <td>0.1960</td>\n      <td>0.0035</td>\n    </tr>\n    <tr>\n      <th>60</th>\n      <td>1600.0</td>\n      <td>1.0</td>\n      <td>0.6</td>\n      <td>500.0</td>\n      <td>2.0</td>\n      <td>0.01</td>\n      <td>100000.0</td>\n      <td>24.0</td>\n      <td>0.00100</td>\n      <td>0.0</td>\n      <td>1.0</td>\n      <td>1.0</td>\n      <td>0.2126</td>\n      <td>0.0050</td>\n    </tr>\n    <tr>\n      <th>62</th>\n      <td>1600.0</td>\n      <td>1.0</td>\n      <td>0.6</td>\n      <td>500.0</td>\n      <td>2.0</td>\n      <td>0.01</td>\n      <td>100000.0</td>\n      <td>24.0</td>\n      <td>0.01000</td>\n      <td>0.0</td>\n      <td>1.0</td>\n      <td>1.0</td>\n      <td>0.2652</td>\n      <td>0.0083</td>\n    </tr>\n  </tbody>\n</table>\n</div>"
     },
     "execution_count": 95,
     "metadata": {},
     "output_type": "execute_result"
    }
   ],
   "source": [
    "df[df[\"Budget\"]==1600]"
   ],
   "metadata": {
    "collapsed": false,
    "pycharm": {
     "name": "#%%\n"
    }
   }
  },
  {
   "cell_type": "markdown",
   "source": [
    "## Linear Model"
   ],
   "metadata": {
    "collapsed": false,
    "pycharm": {
     "name": "#%% md\n"
    }
   }
  },
  {
   "cell_type": "code",
   "execution_count": 96,
   "outputs": [
    {
     "name": "stdout",
     "output_type": "stream",
     "text": [
      "[-0.02681526 -0.02790199 -0.0273024  -0.01849871 -0.023347  ]\n"
     ]
    }
   ],
   "source": [
    "X = df.values[:, :-2] # last two columns are target\n",
    "Y = df.values[:, -2]  # -1: std  -2: mean\n",
    "res = cross_val_score(LinearRegression(), X, Y, cv=5, scoring=\"neg_mean_absolute_error\")\n",
    "print(res)"
   ],
   "metadata": {
    "collapsed": false,
    "pycharm": {
     "name": "#%%\n"
    }
   }
  },
  {
   "cell_type": "code",
   "execution_count": 97,
   "outputs": [
    {
     "ename": "ValueError",
     "evalue": "X has 7 features, but LinearRegression is expecting 12 features as input.",
     "output_type": "error",
     "traceback": [
      "\u001B[0;31m---------------------------------------------------------------------------\u001B[0m",
      "\u001B[0;31mValueError\u001B[0m                                Traceback (most recent call last)",
      "\u001B[0;32m/tmp/user/1000/ipykernel_12363/3590875846.py\u001B[0m in \u001B[0;36m<module>\u001B[0;34m\u001B[0m\n\u001B[1;32m     13\u001B[0m     \u001B[0;32mfor\u001B[0m \u001B[0mnsteps\u001B[0m \u001B[0;32min\u001B[0m \u001B[0;34m[\u001B[0m\u001B[0;36m1\u001B[0m\u001B[0;34m,\u001B[0m \u001B[0;36m2\u001B[0m\u001B[0;34m,\u001B[0m \u001B[0;36m3\u001B[0m\u001B[0;34m,\u001B[0m \u001B[0;36m5\u001B[0m\u001B[0;34m]\u001B[0m\u001B[0;34m:\u001B[0m\u001B[0;34m\u001B[0m\u001B[0;34m\u001B[0m\u001B[0m\n\u001B[1;32m     14\u001B[0m         \u001B[0mx\u001B[0m \u001B[0;34m=\u001B[0m \u001B[0mnp\u001B[0m\u001B[0;34m.\u001B[0m\u001B[0marray\u001B[0m\u001B[0;34m(\u001B[0m\u001B[0;34m[\u001B[0m\u001B[0;34m[\u001B[0m\u001B[0mbudget\u001B[0m\u001B[0;34m,\u001B[0m \u001B[0mnoise\u001B[0m\u001B[0;34m,\u001B[0m \u001B[0malpha\u001B[0m\u001B[0;34m,\u001B[0m \u001B[0mc\u001B[0m\u001B[0;34m,\u001B[0m \u001B[0mnsteps\u001B[0m\u001B[0;34m,\u001B[0m \u001B[0mlr\u001B[0m\u001B[0;34m,\u001B[0m \u001B[0minteractions\u001B[0m\u001B[0;34m]\u001B[0m\u001B[0;34m]\u001B[0m\u001B[0;34m)\u001B[0m\u001B[0;34m\u001B[0m\u001B[0;34m\u001B[0m\u001B[0m\n\u001B[0;32m---> 15\u001B[0;31m         \u001B[0my_hat\u001B[0m \u001B[0;34m=\u001B[0m \u001B[0mmodel\u001B[0m\u001B[0;34m.\u001B[0m\u001B[0mpredict\u001B[0m\u001B[0;34m(\u001B[0m\u001B[0mx\u001B[0m\u001B[0;34m)\u001B[0m\u001B[0;34m\u001B[0m\u001B[0;34m\u001B[0m\u001B[0m\n\u001B[0m\u001B[1;32m     16\u001B[0m         \u001B[0;32mif\u001B[0m \u001B[0my_hat\u001B[0m \u001B[0;34m<\u001B[0m \u001B[0mbest\u001B[0m\u001B[0;34m:\u001B[0m\u001B[0;34m\u001B[0m\u001B[0;34m\u001B[0m\u001B[0m\n\u001B[1;32m     17\u001B[0m             \u001B[0mbest\u001B[0m \u001B[0;34m=\u001B[0m \u001B[0my_hat\u001B[0m\u001B[0;34m\u001B[0m\u001B[0;34m\u001B[0m\u001B[0m\n",
      "\u001B[0;32m~/phd/global_python_env/lib/python3.9/site-packages/sklearn/linear_model/_base.py\u001B[0m in \u001B[0;36mpredict\u001B[0;34m(self, X)\u001B[0m\n\u001B[1;32m    360\u001B[0m             \u001B[0mReturns\u001B[0m \u001B[0mpredicted\u001B[0m \u001B[0mvalues\u001B[0m\u001B[0;34m.\u001B[0m\u001B[0;34m\u001B[0m\u001B[0;34m\u001B[0m\u001B[0m\n\u001B[1;32m    361\u001B[0m         \"\"\"\n\u001B[0;32m--> 362\u001B[0;31m         \u001B[0;32mreturn\u001B[0m \u001B[0mself\u001B[0m\u001B[0;34m.\u001B[0m\u001B[0m_decision_function\u001B[0m\u001B[0;34m(\u001B[0m\u001B[0mX\u001B[0m\u001B[0;34m)\u001B[0m\u001B[0;34m\u001B[0m\u001B[0;34m\u001B[0m\u001B[0m\n\u001B[0m\u001B[1;32m    363\u001B[0m \u001B[0;34m\u001B[0m\u001B[0m\n\u001B[1;32m    364\u001B[0m     \u001B[0m_preprocess_data\u001B[0m \u001B[0;34m=\u001B[0m \u001B[0mstaticmethod\u001B[0m\u001B[0;34m(\u001B[0m\u001B[0m_preprocess_data\u001B[0m\u001B[0;34m)\u001B[0m\u001B[0;34m\u001B[0m\u001B[0;34m\u001B[0m\u001B[0m\n",
      "\u001B[0;32m~/phd/global_python_env/lib/python3.9/site-packages/sklearn/linear_model/_base.py\u001B[0m in \u001B[0;36m_decision_function\u001B[0;34m(self, X)\u001B[0m\n\u001B[1;32m    343\u001B[0m         \u001B[0mcheck_is_fitted\u001B[0m\u001B[0;34m(\u001B[0m\u001B[0mself\u001B[0m\u001B[0;34m)\u001B[0m\u001B[0;34m\u001B[0m\u001B[0;34m\u001B[0m\u001B[0m\n\u001B[1;32m    344\u001B[0m \u001B[0;34m\u001B[0m\u001B[0m\n\u001B[0;32m--> 345\u001B[0;31m         \u001B[0mX\u001B[0m \u001B[0;34m=\u001B[0m \u001B[0mself\u001B[0m\u001B[0;34m.\u001B[0m\u001B[0m_validate_data\u001B[0m\u001B[0;34m(\u001B[0m\u001B[0mX\u001B[0m\u001B[0;34m,\u001B[0m \u001B[0maccept_sparse\u001B[0m\u001B[0;34m=\u001B[0m\u001B[0;34m[\u001B[0m\u001B[0;34m\"csr\"\u001B[0m\u001B[0;34m,\u001B[0m \u001B[0;34m\"csc\"\u001B[0m\u001B[0;34m,\u001B[0m \u001B[0;34m\"coo\"\u001B[0m\u001B[0;34m]\u001B[0m\u001B[0;34m,\u001B[0m \u001B[0mreset\u001B[0m\u001B[0;34m=\u001B[0m\u001B[0;32mFalse\u001B[0m\u001B[0;34m)\u001B[0m\u001B[0;34m\u001B[0m\u001B[0;34m\u001B[0m\u001B[0m\n\u001B[0m\u001B[1;32m    346\u001B[0m         \u001B[0;32mreturn\u001B[0m \u001B[0msafe_sparse_dot\u001B[0m\u001B[0;34m(\u001B[0m\u001B[0mX\u001B[0m\u001B[0;34m,\u001B[0m \u001B[0mself\u001B[0m\u001B[0;34m.\u001B[0m\u001B[0mcoef_\u001B[0m\u001B[0;34m.\u001B[0m\u001B[0mT\u001B[0m\u001B[0;34m,\u001B[0m \u001B[0mdense_output\u001B[0m\u001B[0;34m=\u001B[0m\u001B[0;32mTrue\u001B[0m\u001B[0;34m)\u001B[0m \u001B[0;34m+\u001B[0m \u001B[0mself\u001B[0m\u001B[0;34m.\u001B[0m\u001B[0mintercept_\u001B[0m\u001B[0;34m\u001B[0m\u001B[0;34m\u001B[0m\u001B[0m\n\u001B[1;32m    347\u001B[0m \u001B[0;34m\u001B[0m\u001B[0m\n",
      "\u001B[0;32m~/phd/global_python_env/lib/python3.9/site-packages/sklearn/base.py\u001B[0m in \u001B[0;36m_validate_data\u001B[0;34m(self, X, y, reset, validate_separately, **check_params)\u001B[0m\n\u001B[1;32m    578\u001B[0m \u001B[0;34m\u001B[0m\u001B[0m\n\u001B[1;32m    579\u001B[0m         \u001B[0;32mif\u001B[0m \u001B[0;32mnot\u001B[0m \u001B[0mno_val_X\u001B[0m \u001B[0;32mand\u001B[0m \u001B[0mcheck_params\u001B[0m\u001B[0;34m.\u001B[0m\u001B[0mget\u001B[0m\u001B[0;34m(\u001B[0m\u001B[0;34m\"ensure_2d\"\u001B[0m\u001B[0;34m,\u001B[0m \u001B[0;32mTrue\u001B[0m\u001B[0;34m)\u001B[0m\u001B[0;34m:\u001B[0m\u001B[0;34m\u001B[0m\u001B[0;34m\u001B[0m\u001B[0m\n\u001B[0;32m--> 580\u001B[0;31m             \u001B[0mself\u001B[0m\u001B[0;34m.\u001B[0m\u001B[0m_check_n_features\u001B[0m\u001B[0;34m(\u001B[0m\u001B[0mX\u001B[0m\u001B[0;34m,\u001B[0m \u001B[0mreset\u001B[0m\u001B[0;34m=\u001B[0m\u001B[0mreset\u001B[0m\u001B[0;34m)\u001B[0m\u001B[0;34m\u001B[0m\u001B[0;34m\u001B[0m\u001B[0m\n\u001B[0m\u001B[1;32m    581\u001B[0m \u001B[0;34m\u001B[0m\u001B[0m\n\u001B[1;32m    582\u001B[0m         \u001B[0;32mreturn\u001B[0m \u001B[0mout\u001B[0m\u001B[0;34m\u001B[0m\u001B[0;34m\u001B[0m\u001B[0m\n",
      "\u001B[0;32m~/phd/global_python_env/lib/python3.9/site-packages/sklearn/base.py\u001B[0m in \u001B[0;36m_check_n_features\u001B[0;34m(self, X, reset)\u001B[0m\n\u001B[1;32m    393\u001B[0m \u001B[0;34m\u001B[0m\u001B[0m\n\u001B[1;32m    394\u001B[0m         \u001B[0;32mif\u001B[0m \u001B[0mn_features\u001B[0m \u001B[0;34m!=\u001B[0m \u001B[0mself\u001B[0m\u001B[0;34m.\u001B[0m\u001B[0mn_features_in_\u001B[0m\u001B[0;34m:\u001B[0m\u001B[0;34m\u001B[0m\u001B[0;34m\u001B[0m\u001B[0m\n\u001B[0;32m--> 395\u001B[0;31m             raise ValueError(\n\u001B[0m\u001B[1;32m    396\u001B[0m                 \u001B[0;34mf\"X has {n_features} features, but {self.__class__.__name__} \"\u001B[0m\u001B[0;34m\u001B[0m\u001B[0;34m\u001B[0m\u001B[0m\n\u001B[1;32m    397\u001B[0m                 \u001B[0;34mf\"is expecting {self.n_features_in_} features as input.\"\u001B[0m\u001B[0;34m\u001B[0m\u001B[0;34m\u001B[0m\u001B[0m\n",
      "\u001B[0;31mValueError\u001B[0m: X has 7 features, but LinearRegression is expecting 12 features as input."
     ]
    }
   ],
   "source": [
    "model = LinearRegression().fit(X, Y)\n",
    "budget = 2000\n",
    "noise = 1.0\n",
    "alpha = 0.6\n",
    "c = 500\n",
    "nsteps = 1\n",
    "lr = 0.01\n",
    "interactions = 500000\n",
    "\n",
    "best = np.inf\n",
    "x_best = None\n",
    "for interactions in [2000000, 4000000, 8000000]:\n",
    "    for nsteps in [1, 2, 3, 5]:\n",
    "        x = np.array([[budget, noise, alpha, c, nsteps, lr, interactions]])\n",
    "        y_hat = model.predict(x)\n",
    "        if y_hat < best:\n",
    "            best = y_hat\n",
    "            x_best = x\n",
    "\n",
    "for_printing = pd.DataFrame(columns=df.columns)\n",
    "for_printing.loc[\"best\"] = list(x_best[0]) + list(best) + [0]\n",
    "for_printing"
   ],
   "metadata": {
    "collapsed": false,
    "pycharm": {
     "name": "#%%\n"
    }
   }
  }
 ],
 "metadata": {
  "kernelspec": {
   "display_name": "Python 3",
   "language": "python",
   "name": "python3"
  },
  "language_info": {
   "codemirror_mode": {
    "name": "ipython",
    "version": 2
   },
   "file_extension": ".py",
   "mimetype": "text/x-python",
   "name": "python",
   "nbconvert_exporter": "python",
   "pygments_lexer": "ipython2",
   "version": "2.7.6"
  }
 },
 "nbformat": 4,
 "nbformat_minor": 0
}